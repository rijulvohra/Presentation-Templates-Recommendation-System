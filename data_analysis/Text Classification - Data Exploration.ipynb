{
 "cells": [
  {
   "cell_type": "code",
   "execution_count": 1,
   "metadata": {},
   "outputs": [],
   "source": [
    "import pandas as pd\n",
    "import numpy as np\n",
    "from sklearn.preprocessing import LabelEncoder"
   ]
  },
  {
   "cell_type": "code",
   "execution_count": null,
   "metadata": {},
   "outputs": [],
   "source": []
  },
  {
   "cell_type": "code",
   "execution_count": null,
   "metadata": {},
   "outputs": [],
   "source": []
  },
  {
   "cell_type": "markdown",
   "metadata": {},
   "source": [
    "### Create the map between the DBpedia categories and presentation categories:"
   ]
  },
  {
   "cell_type": "code",
   "execution_count": 2,
   "metadata": {},
   "outputs": [],
   "source": [
    "presentation_dbpedia_map_file = \"../../data/presentation_categories_filtered_with_dbpedia_map.txt\""
   ]
  },
  {
   "cell_type": "code",
   "execution_count": 3,
   "metadata": {},
   "outputs": [],
   "source": [
    "dbpedia_cat_map = {}\n",
    "with open(presentation_dbpedia_map_file, \"r\") as f:\n",
    "    for cur_line in f:\n",
    "        if \",\" in cur_line:\n",
    "            base_present_cat = cur_line.split(\" , \")[0].split(\" \")[0].strip()\n",
    "            dbpedia_cat_list = cur_line.split(\" , \")[1].split(\" \")\n",
    "            for cur_cat in dbpedia_cat_list:\n",
    "                dbpedia_cat_map[cur_cat.strip()] = base_present_cat"
   ]
  },
  {
   "cell_type": "code",
   "execution_count": 4,
   "metadata": {},
   "outputs": [
    {
     "name": "stdout",
     "output_type": "stream",
     "text": [
      "{'Animal': 'nature', 'Plant': 'nature', 'BodyOfWater': 'nature', 'FloweringPlant': 'nature', 'Artist': 'art', 'EducationalInstitution': 'education', 'Infrastructure': 'engineering', 'Cartoon': 'games', 'Comic': 'games', 'SportsTeam': 'sports', 'SportsEvent': 'sports', 'SportsTeamSeason': 'sports', 'Software': 'technology', 'CelestialBody': 'astrology-astronomy', 'Satellite': 'astrology-astronomy', 'PeriodicalLiterature': 'history', 'RouteOfTransportation': 'transportation', 'MusicalWork': 'music', 'Song': 'music', 'MusicalArtist': 'music'}\n"
     ]
    }
   ],
   "source": [
    "print(dbpedia_cat_map)"
   ]
  },
  {
   "cell_type": "code",
   "execution_count": null,
   "metadata": {},
   "outputs": [],
   "source": []
  },
  {
   "cell_type": "code",
   "execution_count": null,
   "metadata": {},
   "outputs": [],
   "source": []
  },
  {
   "cell_type": "markdown",
   "metadata": {},
   "source": [
    "### Filter the DBpedia data:"
   ]
  },
  {
   "cell_type": "code",
   "execution_count": 5,
   "metadata": {},
   "outputs": [],
   "source": [
    "def filterData(input_file_name, dbpedia_cat_map, sample_size=100, le=None):\n",
    "    df_cur = pd.read_csv(input_file_name)\n",
    "    df_cur = df_cur[df_cur[\"l2\"].isin(list(dbpedia_cat_map.keys()))]\n",
    "    df_cur[\"topic\"] = df_cur.apply(lambda x: dbpedia_cat_map[x[\"l2\"]], axis=1)\n",
    "    df_cur = df_cur[[\"text\", \"topic\"]]\n",
    "    \n",
    "    if le is None:\n",
    "        le = LabelEncoder()\n",
    "        le.fit(df_cur[\"topic\"])\n",
    "        df_cur[\"topic_label\"] = le.transform(df_cur[\"topic\"])\n",
    "    else:\n",
    "        df_cur[\"topic_label\"] = le.transform(df_cur[\"topic\"])\n",
    "        \n",
    "        \n",
    "    # Downsample each class to less than sample_size\n",
    "    topic_count_dict = dict(df_cur[\"topic\"].value_counts())\n",
    "    df_new = pd.DataFrame(columns=df_cur.columns)\n",
    "    \n",
    "    for key, val in topic_count_dict.items():\n",
    "        cur_sample_size = min(val, sample_size)\n",
    "        df_samp = df_cur[df_cur[\"topic\"]==key].sample(cur_sample_size)\n",
    "        df_new = pd.concat([df_new, df_samp])\n",
    "    \n",
    "    return df_new, le"
   ]
  },
  {
   "cell_type": "code",
   "execution_count": null,
   "metadata": {},
   "outputs": [],
   "source": []
  },
  {
   "cell_type": "code",
   "execution_count": null,
   "metadata": {},
   "outputs": [],
   "source": []
  },
  {
   "cell_type": "code",
   "execution_count": null,
   "metadata": {},
   "outputs": [],
   "source": []
  },
  {
   "cell_type": "code",
   "execution_count": 6,
   "metadata": {},
   "outputs": [],
   "source": [
    "train_data_path = \"../../data/dbpedia_data/DBPEDIA_train.csv\"\n",
    "val_data_path = \"../../data/dbpedia_data/DBPEDIA_val.csv\"\n",
    "test_data_path = \"../../data/dbpedia_data/DBPEDIA_test.csv\""
   ]
  },
  {
   "cell_type": "code",
   "execution_count": 7,
   "metadata": {},
   "outputs": [],
   "source": [
    "df_train, le = filterData(train_data_path, dbpedia_cat_map, sample_size=500, le=None)\n",
    "df_train.to_csv(\"../../data/topic_classification_data/train.csv\", index=False)"
   ]
  },
  {
   "cell_type": "code",
   "execution_count": 8,
   "metadata": {},
   "outputs": [],
   "source": [
    "df_val, le = filterData(val_data_path, dbpedia_cat_map, sample_size=100, le=le)\n",
    "df_val.to_csv(\"../../data/topic_classification_data/val.csv\", index=False)"
   ]
  },
  {
   "cell_type": "code",
   "execution_count": 9,
   "metadata": {},
   "outputs": [],
   "source": [
    "df_test, le = filterData(test_data_path, dbpedia_cat_map, sample_size=100, le=le)\n",
    "df_test.to_csv(\"../../data/topic_classification_data/test.csv\", index=False)"
   ]
  },
  {
   "cell_type": "code",
   "execution_count": 10,
   "metadata": {},
   "outputs": [
    {
     "name": "stdout",
     "output_type": "stream",
     "text": [
      "(5500, 3) (1100, 3) (1100, 3)\n"
     ]
    }
   ],
   "source": [
    "print(df_train.shape, df_val.shape, df_test.shape)"
   ]
  },
  {
   "cell_type": "code",
   "execution_count": null,
   "metadata": {},
   "outputs": [],
   "source": []
  },
  {
   "cell_type": "code",
   "execution_count": null,
   "metadata": {},
   "outputs": [],
   "source": []
  },
  {
   "cell_type": "code",
   "execution_count": null,
   "metadata": {},
   "outputs": [],
   "source": []
  },
  {
   "cell_type": "code",
   "execution_count": null,
   "metadata": {},
   "outputs": [],
   "source": []
  }
 ],
 "metadata": {
  "kernelspec": {
   "display_name": "Python 3",
   "language": "python",
   "name": "python3"
  },
  "language_info": {
   "codemirror_mode": {
    "name": "ipython",
    "version": 3
   },
   "file_extension": ".py",
   "mimetype": "text/x-python",
   "name": "python",
   "nbconvert_exporter": "python",
   "pygments_lexer": "ipython3",
   "version": "3.6.8"
  }
 },
 "nbformat": 4,
 "nbformat_minor": 4
}
